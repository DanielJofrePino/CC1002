{
  "nbformat": 4,
  "nbformat_minor": 0,
  "metadata": {
    "colab": {
      "name": "Clase_00_Sobre_el_curso_y_reglas.ipynb",
      "provenance": [],
      "collapsed_sections": []
    },
    "kernelspec": {
      "name": "python3",
      "display_name": "Python 3"
    }
  },
  "cells": [
    {
      "cell_type": "markdown",
      "metadata": {
        "id": "1bk9Ssb5FG6I",
        "colab_type": "text"
      },
      "source": [
        "# Acerca del Curso\n",
        "\n",
        "\n",
        "## Objetivos del curso\n",
        "\n",
        "El objetivo principal de este curso no es formar programadores, sino desarrollar en los alumnos una base común en razonamiento algorítmico y lógico, así como una capacidad de modelamiento y abstracción, necesarios para trabajar una habilidad general en la resolución de problemas. Estos problemas no necesariamente estarán acotados en el contexto de las Ciencias de la Computación, sino en el ámbito cotidiano y de la Ingeniería y Ciencias en general.\n",
        "\n",
        "\n",
        "## Metodología de trabajo\n",
        "\n",
        "Las clases de cátedra se realizan mezclando clase expositiva con metodología activa. Es decir, la profesora expone los contenidos del curso y realiza además aprendizaje basado en el desarrollo de problemas.\n",
        "\n",
        "El material del curso está diseñado para que los alumnos puedan bajarlo antes o durante las clases y que, si quieren, puedan ir siguiendo las actividades de manera interactiva en su computador (tablet, teléfono, etc.).\n",
        "\n",
        "\n",
        "## Reglas del curso\n",
        "\n",
        "\n",
        "- **NF (nota final):** 2/3 NT + 1/3 NEJ (NC>=4 y NEJ>=4)\n",
        "- **NT (nota tareas):** promedio 3 tareas (1 x unidad)\n",
        "- **NEJ (nota ejercicios):** promedio ejercicios (1 o 2 ejercicios x semana)\n",
        "\n",
        "Tareas y Ejericios deben **aprobarse por separado**.\n",
        "\n",
        "## Sobre los Ejercicios\n",
        "\n",
        "Se realizarán **ejercicios cortos con nota** por cada tema los cuales deben ser enviados vía u-cursos. Esta actividad consiste el desarrollo individual de un problema simple, con el objetivo reforzar y comprobar el aprendizaje. Es muy importante realizar todos los ejercicios ya que permite a los profesores tener retroalimentación sobre lo que se enseña. \n",
        "\n",
        "La escala en que se evaluarán los ejercicios está simplificada y es:\n",
        "\n",
        "- 1 (no logra el objetivo, no va en la dirección correcta)\n",
        "- 3 (no logra el objetivo, pero va en la dirección adecuada)\n",
        "- 5 (logra medianamente el objetivo, tiene algunos errores)\n",
        "- 7 (logra el objetivo)\n",
        "\n",
        "Cada **5 ejercicios se borrará la peor nota**.\n",
        "\n",
        "## Compromiso ético de trabajo personal durante el curso\n",
        "\n",
        "Se asume que todos los alumnos que participan del curso cumplirán con un compromiso ético en el desarrollo de su trabajo LINK. Este compromiso implica realizar las tareas de manera responsable \n",
        "y honesta, sin incurrir en plagio, copia, o suplantación de identidad. Todas las evaluaciones, consistentes en ejercicios y tareas son trabajos de carácter individual (a no ser que se indique explícitamente lo contrario). El no cumplir con este compromiso de cualquier manera es causa de reprobación del curso.\n",
        "\n",
        "Reglas simples a seguir en tareas y ejercicios son que:\n",
        "- **todo el código debe ser de autoría propia** y no se puede compartir código entre estudiantes. En otras palabras, no está permitido _ver_ ni _copiar_ código de otros estudiantes.\n",
        "- Sí está permitido discutir estrategias para la solución de problemas entre estudiates como parte de la reflexión y el aprendizaje del curso. \n",
        "\n",
        "\n",
        "# Herramientas del curso\n",
        "\n",
        "- Python 3 (consola - requiere [instalar python](https://www.python.org/downloads/) en su computador)\n",
        "- [Colab](https://colab.research.google.com/) de Google (permite ejecutar python online, no requiere instalación, pero sí tener el navegador [Chrome](https://www.google.com/chrome) en su tablet, smartphone o computador. Las clases del curso están hechas usando Colab, que es un ambiente que permite agregar bloques de código adentro de un documento.\n",
        "\n",
        "Se dejará un post en el Blog del curso con detalles sobre el uso e instalación de la consola y colab.\n"
      ]
    }
  ]
}