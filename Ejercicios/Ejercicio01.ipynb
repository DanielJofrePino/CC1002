{
  "nbformat": 4,
  "nbformat_minor": 0,
  "metadata": {
    "colab": {
      "name": "Ejercicio01.ipynb",
      "provenance": [],
      "collapsed_sections": []
    },
    "kernelspec": {
      "name": "python3",
      "display_name": "Python 3"
    }
  },
  "cells": [
    {
      "cell_type": "markdown",
      "metadata": {
        "id": "EyOMhn3xF7oR",
        "colab_type": "text"
      },
      "source": [
        "# Ejercicio 1 (enviar antes de la próxima clase)\n",
        "\n",
        "El primer ejercicio consiste en que Ud. ejecute en python, y de manera personal, todos los comandos vistos en esta clase. Todos los apuntes de la clase se encontrarán disponibles en el [repositorio github del curso](https://github.com/bpoblete/CC1002).\n",
        "\n",
        "Existen 2 formas diferentes para hacer este ejercicio, elija la que más le acomode:\n",
        "\n",
        "1. **(Muy fácil) Utilizando el editor en línea Colab de Google (sólo requiere un navegador con Internet, no necesita instalar python):** Para eso Ud. deberá acceder a esta clase en el [repositorio github del curso](https://github.com/bpoblete/CC1002), ahí deberá seleccionar el enlace con la Clase 1 \"`Clase_01_Expresiones_y_Tipos_Datos.ipynb`\". Una vez abierto el enlace deberá apretar el botón que dice \"open in colab\" (abrir en colab), lo cual **abrirá una copia de la clase**. Luego, puede guardar una copia en su computador (en su google drive) y comenzar la ejecucción de los comandos. Una vez terminado puede imprimir su notebook como PDF, o guardarlo y enviarlo vía tareas en u-cursos. (se puede enviar un `.py` o `.ipynb`).\n",
        "\n",
        "2. **(Fácil) utilizando la consola (IDLE) en su computador (requiere instalar python):** Para esto Ud. debe bajar e instalar python 3. Si elige esta opción debe abrir la consola de python (IDLE) e ir escribiendo uno a uno los comandos vistos en esta clase y ejecutarlos. Una vez terminado puede decir \"guardar como...\" en IDLE, con lo cual guarda un archivo en python (`.py`) que luego se debe enviar vía tareas en u-cursos.\n",
        "\n",
        "  Nota: Esta opción no permite interactuar con el cuaderno (notebook) que utilizamos en clases, sólo ejecutar el código.\n",
        "\n",
        "Colab tiene la ventaja de que le permite editar los apuntes y agregar sus propios comentarios haciendo doble click en el texto. Esto se hace en un formato muy simple llamado _markdown_, acá hay una [referencia rápida](https://github.com/adam-p/markdown-here/wiki/Markdown-Cheatsheet) y acá [otra](http://rmarkdown.rstudio.com/authoring_basics.html). Esto es aconsejable si quieren tomar apuntes clase a clase que incluyan código.\n",
        "\n",
        "Cualquier problema para hacer este primer ejercicio no duden en consultar con los auxiliares o los profesores utilizando el foro del curso. La idea es utilizar este ejercicio para que se familiaricen con las herramientas. (Puede parecer difícil, pero no lo es, en serio!)."
      ]
    }
  ]
}