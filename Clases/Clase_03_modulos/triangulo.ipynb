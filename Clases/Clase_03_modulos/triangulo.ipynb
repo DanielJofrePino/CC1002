{
  "nbformat": 4,
  "nbformat_minor": 0,
  "metadata": {
    "kernelspec": {
      "name": "python3",
      "display_name": "Python 3"
    },
    "colab": {
      "name": "triangulo.ipynb",
      "provenance": [],
      "collapsed_sections": [],
      "include_colab_link": true
    }
  },
  "cells": [
    {
      "cell_type": "markdown",
      "metadata": {
        "id": "view-in-github",
        "colab_type": "text"
      },
      "source": [
        "<a href=\"https://colab.research.google.com/github/bpoblete/CC1002/blob/master/Clases/Clase_03_modulos/triangulo.ipynb\" target=\"_parent\"><img src=\"https://colab.research.google.com/assets/colab-badge.svg\" alt=\"Open In Colab\"/></a>"
      ]
    },
    {
      "cell_type": "markdown",
      "metadata": {
        "id": "d5VsHme8qvtU",
        "colab_type": "text"
      },
      "source": [
        "## Módulo Triángulo"
      ]
    },
    {
      "cell_type": "code",
      "metadata": {
        "id": "Ts10iiWyqvtV",
        "colab_type": "code",
        "colab": {}
      },
      "source": [
        "import math"
      ],
      "execution_count": null,
      "outputs": []
    },
    {
      "cell_type": "code",
      "metadata": {
        "id": "O7h3NG0_qvtZ",
        "colab_type": "code",
        "colab": {}
      },
      "source": [
        "# perimetro: num num num -> num\n",
        "# calcula el perimetro de un triangulo de lados a, b, c\n",
        "# ejemplo: perimetro(2,3,2) debe dar 7\n",
        "def perimetro(a, b, c):\n",
        "  return a+b+c\n",
        "# Tests\n",
        "assert perimetro(2,3,2) == 7\n"
      ],
      "execution_count": null,
      "outputs": []
    },
    {
      "cell_type": "markdown",
      "metadata": {
        "id": "2mS97YTRtiNF",
        "colab_type": "text"
      },
      "source": [
        "\\begin{equation*}\n",
        "\\mathrm{Area} = \\sqrt{\\mathrm{semi\\_perimetro}*(\\mathrm{semi\\_perimetro}-a)*(\\mathrm{semi\\_perimetro}-b)*(\\mathrm{semi\\_perimetro}-c)}\n",
        "\\end{equation*}"
      ]
    },
    {
      "cell_type": "code",
      "metadata": {
        "id": "cBb_JNGhqvte",
        "colab_type": "code",
        "colab": {}
      },
      "source": [
        "# area: num num num -> num\n",
        "# calcula el area de un triangulo de lados a, b, c\n",
        "# ejemplo: area(3,  4, 5) debe dar 6\n",
        "def area(a, b, c):\n",
        "  semi = perimetro(a, b, c)/2.0\n",
        "  return math.sqrt(semi*(semi-a)*(semi-b)*(semi-c))\n",
        "# Tests\n",
        "assert area(3,4,5) == 6"
      ],
      "execution_count": null,
      "outputs": []
    }
  ]
}