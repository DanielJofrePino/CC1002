{
  "nbformat": 4,
  "nbformat_minor": 0,
  "metadata": {
    "kernelspec": {
      "name": "python3",
      "display_name": "Python 3"
    },
    "colab": {
      "name": "Clase_03_Modulos_y_Programas_Interactivos.ipynb",
      "provenance": [],
      "collapsed_sections": [],
      "include_colab_link": true
    }
  },
  "cells": [
    {
      "cell_type": "markdown",
      "metadata": {
        "id": "view-in-github",
        "colab_type": "text"
      },
      "source": [
        "<a href=\"https://colab.research.google.com/github/bpoblete/CC1002/blob/master/Clases/Clase_03_Modulos_y_Programas_Interactivos.ipynb\" target=\"_parent\"><img src=\"https://colab.research.google.com/assets/colab-badge.svg\" alt=\"Open In Colab\"/></a>"
      ]
    },
    {
      "cell_type": "markdown",
      "metadata": {
        "id": "sS5f82UHol-W",
        "colab_type": "text"
      },
      "source": [
        "#Clase 3: Módulos y Programas Interactivos\n",
        "**(Capítulo 4 del Apunte)**\n"
      ]
    },
    {
      "cell_type": "markdown",
      "metadata": {
        "id": "sddNCtVkizOy",
        "colab_type": "text"
      },
      "source": [
        "## Variables constantes\n",
        "\n",
        "La variable **`pi`** se repite varias veces en el mismo programa y no cambia nunca. Las variables que son constantes se pueden definir como tales afuera de la función. (modificamos el código de arriba para comprobarlo.)\n",
        "\n",
        "**Dar nombres relevantes a las constantes que serán utilizadas frecuentemente en su programa, utilizando estos nombres en lugar de hacer referencia a su valor**\n",
        "\n",
        "Esto permite que el código sea más entendible y si hay que modificar el valor de la constante se hace una sola vez."
      ]
    },
    {
      "cell_type": "markdown",
      "metadata": {
        "id": "WuvPIFosizOz",
        "colab_type": "text"
      },
      "source": [
        "## Módulos\n",
        "\n",
        "La programación usando módulos (programación modular) es una técnica de diseño que separa las funciones de un programa en módulos.\n",
        "- Un módulo tiene una finalidad única y contienen todo lo necesario para llevar a cabo esa funcionalidad (código fuente, variables).\n",
        "- Conceptualmente <mark>un módulo representa separación de intereses</mark>.\n",
        "- Mejoran la mantenibilidad de un software.\n"
      ]
    },
    {
      "cell_type": "markdown",
      "metadata": {
        "id": "z5uehp1rizO0",
        "colab_type": "text"
      },
      "source": [
        "###Ejemplo:\n",
        "Módulo [triangulo.py](https://colab.research.google.com/github/bpoblete/CC1002/blob/master/Clases/Clase_03_modulos/triangulo.py) (debemos crearlo en un archivo aparte con el nombre del modulo+\".py\")\n",
        "\n",
        "Luego, para utilizar cualquiera de las funciones del módulo desde otros programas debemos decir:\n",
        "\n",
        "```python\n",
        "import triangulo\n",
        "```\n",
        "o\n",
        "```python\n",
        "from triangulo import *\n",
        "```\n",
        "\n",
        "esto importa todas las funciones del módulo, o alternativamente:\n",
        "\n",
        "```python\n",
        "from triangulo import nombre_funcion\n",
        "```\n",
        "\n",
        "esto importa solo la función especificada por `nombre_funcion`, que puede ser cualquier funcion definida en `triangulo.py`\n",
        "\n",
        "\n",
        "---\n",
        "\n"
      ]
    },
    {
      "cell_type": "code",
      "metadata": {
        "id": "PGCmNqmPVXu_",
        "colab_type": "code",
        "colab": {}
      },
      "source": [
        "from triangulo import *\n",
        "perimetro(2,3,2)"
      ],
      "execution_count": null,
      "outputs": []
    },
    {
      "cell_type": "markdown",
      "metadata": {
        "id": "qO_4yB-jizO1",
        "colab_type": "text"
      },
      "source": [
        "## Módulos que vienen con python\n",
        "\n",
        "### math.py"
      ]
    },
    {
      "cell_type": "code",
      "metadata": {
        "id": "6HPIb_2yizO2",
        "colab_type": "code",
        "colab": {}
      },
      "source": [
        "import math\n",
        "# help(math)\n",
        "# help muestra la documentacion, esta comentado para imprimir el pdf\n"
      ],
      "execution_count": null,
      "outputs": []
    },
    {
      "cell_type": "code",
      "metadata": {
        "id": "wi4F2w6lizO4",
        "colab_type": "code",
        "colab": {}
      },
      "source": [
        "math.pi"
      ],
      "execution_count": null,
      "outputs": []
    },
    {
      "cell_type": "code",
      "metadata": {
        "id": "t7skgmnXizO8",
        "colab_type": "code",
        "colab": {}
      },
      "source": [
        "math.pow(10,10)"
      ],
      "execution_count": null,
      "outputs": []
    },
    {
      "cell_type": "code",
      "metadata": {
        "id": "cWTxpLJgizO_",
        "colab_type": "code",
        "colab": {}
      },
      "source": [
        "math.sqrt(25)"
      ],
      "execution_count": null,
      "outputs": []
    },
    {
      "cell_type": "code",
      "metadata": {
        "id": "1Y0APqiVizPB",
        "colab_type": "code",
        "colab": {}
      },
      "source": [
        "math.trunc(math.pi)"
      ],
      "execution_count": null,
      "outputs": []
    },
    {
      "cell_type": "code",
      "metadata": {
        "id": "Wmi59dyH4RlW",
        "colab_type": "code",
        "colab": {}
      },
      "source": [
        "help(math) # ejecutar y ver lo que pasa (muestra el manual con funciones de math)"
      ],
      "execution_count": null,
      "outputs": []
    },
    {
      "cell_type": "markdown",
      "metadata": {
        "id": "agmpSnRPizPD",
        "colab_type": "text"
      },
      "source": [
        "\n",
        "\n",
        "### Ejemplo de uso:"
      ]
    },
    {
      "cell_type": "code",
      "metadata": {
        "id": "f_cWxPTjizPE",
        "colab_type": "code",
        "colab": {}
      },
      "source": [
        "import math\n",
        "grados = 90\n",
        "radianes = math.pi*grados/180\n",
        "seno = math.sin(radianes)\n",
        "seno"
      ],
      "execution_count": null,
      "outputs": []
    },
    {
      "cell_type": "code",
      "metadata": {
        "id": "ALmpOQD0izPG",
        "colab_type": "code",
        "colab": {}
      },
      "source": [
        "coseno = math.cos(radianes)\n",
        "coseno"
      ],
      "execution_count": null,
      "outputs": []
    },
    {
      "cell_type": "markdown",
      "metadata": {
        "id": "Pq4Zm9OFizPI",
        "colab_type": "text"
      },
      "source": [
        "\n",
        "### random.py\n"
      ]
    },
    {
      "cell_type": "code",
      "metadata": {
        "id": "2ya-YMZ1izPJ",
        "colab_type": "code",
        "colab": {}
      },
      "source": [
        "import random\n"
      ],
      "execution_count": null,
      "outputs": []
    },
    {
      "cell_type": "code",
      "metadata": {
        "id": "Xu8z6mLmizPL",
        "colab_type": "code",
        "colab": {}
      },
      "source": [
        "random.random() #float al azar entre 0 y 1"
      ],
      "execution_count": null,
      "outputs": []
    },
    {
      "cell_type": "code",
      "metadata": {
        "id": "wcpdj6bMizPN",
        "colab_type": "code",
        "colab": {}
      },
      "source": [
        "random.randint(2,7) #int al azar entre a y b"
      ],
      "execution_count": null,
      "outputs": []
    },
    {
      "cell_type": "markdown",
      "metadata": {
        "id": "ueZybdm6izPP",
        "colab_type": "text"
      },
      "source": [
        "## Otras funciones que vienen incluidas en python (no se importan con módulos vienen por defecto)"
      ]
    },
    {
      "cell_type": "code",
      "metadata": {
        "id": "2yJcKhYBizPQ",
        "colab_type": "code",
        "colab": {}
      },
      "source": [
        "abs(-1)"
      ],
      "execution_count": null,
      "outputs": []
    },
    {
      "cell_type": "code",
      "metadata": {
        "id": "ICXC-ZpJizPS",
        "colab_type": "code",
        "colab": {}
      },
      "source": [
        "max(3,4,2)"
      ],
      "execution_count": null,
      "outputs": []
    },
    {
      "cell_type": "code",
      "metadata": {
        "id": "ucgeVbXuizPU",
        "colab_type": "code",
        "colab": {}
      },
      "source": [
        "min(2,0)"
      ],
      "execution_count": null,
      "outputs": []
    },
    {
      "cell_type": "markdown",
      "metadata": {
        "id": "RoNN-wMxizPW",
        "colab_type": "text"
      },
      "source": [
        "### Ejemplo usando random y funciones incluidas en python"
      ]
    },
    {
      "cell_type": "code",
      "metadata": {
        "id": "dkpfqnUBizPY",
        "colab_type": "code",
        "colab": {}
      },
      "source": [
        "#mayor y menor de 3 enteros al azar entre 1 y 100\n",
        "import random \n",
        "a=random.randint(1,100) \n",
        "b=random.randint(1,100) \n",
        "c=random.randint(1,100) \n",
        "print (\"mayor=\",max(a,b,c)) \n",
        "print (\"menor=\",min(a,b,c))"
      ],
      "execution_count": null,
      "outputs": []
    },
    {
      "cell_type": "markdown",
      "metadata": {
        "id": "5egIV92EizPd",
        "colab_type": "text"
      },
      "source": [
        "### Propuestos \n",
        "\n",
        "Escribir las siguientes funciones: \n",
        "- `azar(x,y)` entrega entero al azar entre x e y  \n",
        "- `medio(x,y,z)` entrega el valor del medio entre x,y,z \n",
        "- `mayor(x,y)` entrega el mayor entre x e y (sin usar max)\n"
      ]
    },
    {
      "cell_type": "markdown",
      "metadata": {
        "id": "WCECFQ4IizPf",
        "colab_type": "text"
      },
      "source": [
        "\n",
        "***\n",
        "\n",
        "\n",
        "\n",
        "# Programas interactivos\n",
        "\n",
        "Muchas veces un programa necesita interactuar con el usuario (cuando el usuario debe dar parámetros) y luego el programa tiene que mostrar resultados.\n",
        "\n",
        "- **`input`** permite pedir datos al usuario\n",
        "  - **`input`**: la variable ingresada será del texto\n",
        "- **`print()`**, permite imprimir a pantalla\n",
        "Ej:\n",
        "\n"
      ]
    },
    {
      "cell_type": "code",
      "metadata": {
        "id": "cyoRtcfKizPh",
        "colab_type": "code",
        "colab": {}
      },
      "source": [
        "input('Ingrese un numero ')"
      ],
      "execution_count": null,
      "outputs": []
    },
    {
      "cell_type": "code",
      "metadata": {
        "id": "GtzRHyczizPj",
        "colab_type": "code",
        "colab": {}
      },
      "source": [
        "numero = int(input('Ingrese un numero '))"
      ],
      "execution_count": null,
      "outputs": []
    },
    {
      "cell_type": "code",
      "metadata": {
        "id": "We0LKcQlSktv",
        "colab_type": "code",
        "colab": {}
      },
      "source": [
        "numero"
      ],
      "execution_count": null,
      "outputs": []
    },
    {
      "cell_type": "code",
      "metadata": {
        "id": "C-gvoM8mizPk",
        "colab_type": "code",
        "colab": {}
      },
      "source": [
        "doble = numero * 2\n",
        "doble"
      ],
      "execution_count": null,
      "outputs": []
    },
    {
      "cell_type": "code",
      "metadata": {
        "id": "Du1S0MtXSqok",
        "colab_type": "code",
        "colab": {}
      },
      "source": [
        "nombre = input('Cual es su nombre?')"
      ],
      "execution_count": null,
      "outputs": []
    },
    {
      "cell_type": "code",
      "metadata": {
        "id": "KKKF0RRoS1s-",
        "colab_type": "code",
        "colab": {}
      },
      "source": [
        "nombre"
      ],
      "execution_count": null,
      "outputs": []
    },
    {
      "cell_type": "markdown",
      "metadata": {
        "id": "Sx5DmOKAizPw",
        "colab_type": "text"
      },
      "source": [
        "\n",
        "\n",
        "## Programa interactivo usando triangulo.py\n",
        "\n",
        "(debe estar guardado todo en el mismo directorio y ser ejecutado desde ahí)\n",
        "\n",
        "**Ejercicio en clases (5 min)**\n",
        "\n"
      ]
    },
    {
      "cell_type": "code",
      "metadata": {
        "id": "XoJsV8HUizPw",
        "colab_type": "code",
        "colab": {}
      },
      "source": [
        "# completar"
      ],
      "execution_count": null,
      "outputs": []
    }
  ]
}