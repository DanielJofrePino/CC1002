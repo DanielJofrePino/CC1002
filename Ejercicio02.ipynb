{
  "nbformat": 4,
  "nbformat_minor": 0,
  "metadata": {
    "colab": {
      "name": "Ejercicio02.ipynb",
      "provenance": [],
      "authorship_tag": "ABX9TyMEQal7D02vNZqF6upFo+Hq",
      "include_colab_link": true
    },
    "kernelspec": {
      "name": "python3",
      "display_name": "Python 3"
    }
  },
  "cells": [
    {
      "cell_type": "markdown",
      "metadata": {
        "id": "view-in-github",
        "colab_type": "text"
      },
      "source": [
        "<a href=\"https://colab.research.google.com/github/bpoblete/CC1002/blob/master/Ejercicio02.ipynb\" target=\"_parent\"><img src=\"https://colab.research.google.com/assets/colab-badge.svg\" alt=\"Open In Colab\"/></a>"
      ]
    },
    {
      "cell_type": "markdown",
      "metadata": {
        "id": "LyzQ__H06lxG",
        "colab_type": "text"
      },
      "source": [
        "# Ejercicio 2 \n",
        "**(entregar vía u-cursos plazo indicado en Sección Tareas)**\n",
        "\n",
        "Dadas las funciones vistas en esta clase:\n",
        "\n",
        "```python\n",
        "def areaCirculo(r):\n",
        "\n",
        "def areaAnillo(r_exterior, r_interior):\n",
        "\n",
        "```\n",
        "\n",
        "Cree un programa en python en  donde escriba estas funciones utilizando la _receta de diseño_ vista en clases (incluyendo tests). Luego, dentro del mismo programa y defina también las siguientes funciones:\n",
        "\n",
        "```python\n",
        "def perimetroCirculo(r):\n",
        "    \n",
        "def perimetroAnillo(r_exterior, r_interior):\n",
        "\n",
        "```\n",
        "\n",
        "Utilice `perimetroCirculo` como función auxiliar de la función `perimetroAnillo`, igual que con el cálculo de la área del anillo.\n",
        "\n",
        "Envíe vía Tareas en u-cursos un archivo (.py) que contenga todas las funciones mencionadas. \n",
        "\n",
        "**Nota:** \n",
        "- Pueden crear el programa python (.py) usando IDLE de python o Jupyter Notebook con Colab. \n",
        "- en IDLE, deben abrir un nuevo archivo, escribir su programa y probarlo con \"Run Module\" para ver que funcione, se guarda como un **.py**\n",
        "- en Colab, deben crear un nuevo notebook de python (ver video en u-cursos) deben probar sus funciones y programa ejecutando las celdas (haciendo \"Runtime\" -> \"Run All\", o PLAY en cada una), luego descargar un **.py** o el notebook como **.ipynb**.\n",
        "- Es importante que ejecuten su programa antes de enviarlo, para ver que funcione."
      ]
    }
  ]
}